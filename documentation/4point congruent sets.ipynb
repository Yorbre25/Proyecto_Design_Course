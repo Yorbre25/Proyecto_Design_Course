{
 "cells": [
  {
   "cell_type": "code",
   "execution_count": 2,
   "metadata": {},
   "outputs": [],
   "source": [
    "import numpy as np"
   ]
  },
  {
   "cell_type": "code",
   "execution_count": 3,
   "metadata": {},
   "outputs": [],
   "source": [
    "def compute_distance(p1, p2):\n",
    "    return np.linalg.norm(p1 - p2)\n",
    "\n",
    "def find_correspondences(source, target, threshold):\n",
    "    correspondences = []\n",
    "    for i, p1 in enumerate(source):\n",
    "        for j, p2 in enumerate(target):\n",
    "            if compute_distance(p1, p2) < threshold:\n",
    "                correspondences.append((i, j))\n",
    "    return correspondences\n",
    "\n",
    "def compute_transformation_matrix(source, target, correspondences):\n",
    "    A = np.zeros((2 * len(correspondences), 4))\n",
    "    b = np.zeros((2 * len(correspondences), 1))\n",
    "    for k, (i, j) in enumerate(correspondences):\n",
    "        p1 = source[i]\n",
    "        p2 = target[j]\n",
    "        A[2*k] = [p1[0], -p1[1], 1, 0]\n",
    "        A[2*k+1] = [p1[1], p1[0], 0, 1]\n",
    "        b[2*k] = p2[0]\n",
    "        b[2*k+1] = p2[1]\n",
    "    x, _, _, _ = np.linalg.lstsq(A, b, rcond=None)\n",
    "    transformation_matrix = np.array([[x[0], -x[1], x[2]], [x[1], x[0], x[3]], [0, 0, 1]])\n",
    "    return transformation_matrix\n",
    "\n",
    "def apply_transformation(point, transformation_matrix):\n",
    "    homogeneous_point = np.array([point[0], point[1], 1])\n",
    "    transformed_point = np.dot(transformation_matrix, homogeneous_point)\n",
    "    return transformed_point[:2]\n",
    "\n",
    "def four_pcs(source, target, threshold):\n",
    "    correspondences = find_correspondences(source, target, threshold)\n",
    "    if len(correspondences) < 4:\n",
    "        return None\n",
    "    transformation_matrix = compute_transformation_matrix(source, target, correspondences)\n",
    "    return transformation_matrix\n",
    "\n"
   ]
  },
  {
   "cell_type": "code",
   "execution_count": 4,
   "metadata": {},
   "outputs": [
    {
     "ename": "ValueError",
     "evalue": "setting an array element with a sequence. The requested array has an inhomogeneous shape after 2 dimensions. The detected shape was (3, 3) + inhomogeneous part.",
     "output_type": "error",
     "traceback": [
      "\u001b[1;31m---------------------------------------------------------------------------\u001b[0m",
      "\u001b[1;31mValueError\u001b[0m                                Traceback (most recent call last)",
      "Cell \u001b[1;32mIn[4], line 5\u001b[0m\n\u001b[0;32m      3\u001b[0m target \u001b[38;5;241m=\u001b[39m np\u001b[38;5;241m.\u001b[39marray([[\u001b[38;5;241m2\u001b[39m, \u001b[38;5;241m3\u001b[39m], [\u001b[38;5;241m4\u001b[39m, \u001b[38;5;241m5\u001b[39m], [\u001b[38;5;241m6\u001b[39m, \u001b[38;5;241m7\u001b[39m], [\u001b[38;5;241m8\u001b[39m, \u001b[38;5;241m9\u001b[39m]])\n\u001b[0;32m      4\u001b[0m threshold \u001b[38;5;241m=\u001b[39m \u001b[38;5;241m2.0\u001b[39m\n\u001b[1;32m----> 5\u001b[0m transformation_matrix \u001b[38;5;241m=\u001b[39m \u001b[43mfour_pcs\u001b[49m\u001b[43m(\u001b[49m\u001b[43msource\u001b[49m\u001b[43m,\u001b[49m\u001b[43m \u001b[49m\u001b[43mtarget\u001b[49m\u001b[43m,\u001b[49m\u001b[43m \u001b[49m\u001b[43mthreshold\u001b[49m\u001b[43m)\u001b[49m\n\u001b[0;32m      6\u001b[0m \u001b[38;5;28;01mif\u001b[39;00m transformation_matrix \u001b[38;5;129;01mis\u001b[39;00m \u001b[38;5;129;01mnot\u001b[39;00m \u001b[38;5;28;01mNone\u001b[39;00m:\n\u001b[0;32m      7\u001b[0m     \u001b[38;5;28mprint\u001b[39m(\u001b[38;5;124m\"\u001b[39m\u001b[38;5;124mMatriz de transformación:\u001b[39m\u001b[38;5;124m\"\u001b[39m)\n",
      "Cell \u001b[1;32mIn[3], line 35\u001b[0m, in \u001b[0;36mfour_pcs\u001b[1;34m(source, target, threshold)\u001b[0m\n\u001b[0;32m     33\u001b[0m \u001b[38;5;28;01mif\u001b[39;00m \u001b[38;5;28mlen\u001b[39m(correspondences) \u001b[38;5;241m<\u001b[39m \u001b[38;5;241m4\u001b[39m:\n\u001b[0;32m     34\u001b[0m     \u001b[38;5;28;01mreturn\u001b[39;00m \u001b[38;5;28;01mNone\u001b[39;00m\n\u001b[1;32m---> 35\u001b[0m transformation_matrix \u001b[38;5;241m=\u001b[39m \u001b[43mcompute_transformation_matrix\u001b[49m\u001b[43m(\u001b[49m\u001b[43msource\u001b[49m\u001b[43m,\u001b[49m\u001b[43m \u001b[49m\u001b[43mtarget\u001b[49m\u001b[43m,\u001b[49m\u001b[43m \u001b[49m\u001b[43mcorrespondences\u001b[49m\u001b[43m)\u001b[49m\n\u001b[0;32m     36\u001b[0m \u001b[38;5;28;01mreturn\u001b[39;00m transformation_matrix\n",
      "Cell \u001b[1;32mIn[3], line 23\u001b[0m, in \u001b[0;36mcompute_transformation_matrix\u001b[1;34m(source, target, correspondences)\u001b[0m\n\u001b[0;32m     21\u001b[0m     b[\u001b[38;5;241m2\u001b[39m\u001b[38;5;241m*\u001b[39mk\u001b[38;5;241m+\u001b[39m\u001b[38;5;241m1\u001b[39m] \u001b[38;5;241m=\u001b[39m p2[\u001b[38;5;241m1\u001b[39m]\n\u001b[0;32m     22\u001b[0m x, _, _, _ \u001b[38;5;241m=\u001b[39m np\u001b[38;5;241m.\u001b[39mlinalg\u001b[38;5;241m.\u001b[39mlstsq(A, b, rcond\u001b[38;5;241m=\u001b[39m\u001b[38;5;28;01mNone\u001b[39;00m)\n\u001b[1;32m---> 23\u001b[0m transformation_matrix \u001b[38;5;241m=\u001b[39m np\u001b[38;5;241m.\u001b[39marray([[x[\u001b[38;5;241m0\u001b[39m], \u001b[38;5;241m-\u001b[39mx[\u001b[38;5;241m1\u001b[39m], x[\u001b[38;5;241m2\u001b[39m]], [x[\u001b[38;5;241m1\u001b[39m], x[\u001b[38;5;241m0\u001b[39m], x[\u001b[38;5;241m3\u001b[39m]], [\u001b[38;5;241m0\u001b[39m, \u001b[38;5;241m0\u001b[39m, \u001b[38;5;241m1\u001b[39m]])\n\u001b[0;32m     24\u001b[0m \u001b[38;5;28;01mreturn\u001b[39;00m transformation_matrix\n",
      "\u001b[1;31mValueError\u001b[0m: setting an array element with a sequence. The requested array has an inhomogeneous shape after 2 dimensions. The detected shape was (3, 3) + inhomogeneous part."
     ]
    }
   ],
   "source": [
    "# Ejemplo de uso\n",
    "source = np.array([[1, 2], [3, 4], [5, 6], [7, 8]])\n",
    "target = np.array([[2, 3], [4, 5], [6, 7], [8, 9]])\n",
    "threshold = 2.0\n",
    "transformation_matrix = four_pcs(source, target, threshold)\n",
    "if transformation_matrix is not None:\n",
    "    print(\"Matriz de transformación:\")\n",
    "    print(transformation_matrix)\n",
    "else:\n",
    "    print(\"No se encontraron suficientes correspondencias para calcular la matriz de transformación.\")"
   ]
  }
 ],
 "metadata": {
  "kernelspec": {
   "display_name": "Python 3",
   "language": "python",
   "name": "python3"
  },
  "language_info": {
   "codemirror_mode": {
    "name": "ipython",
    "version": 3
   },
   "file_extension": ".py",
   "mimetype": "text/x-python",
   "name": "python",
   "nbconvert_exporter": "python",
   "pygments_lexer": "ipython3",
   "version": "3.11.9"
  }
 },
 "nbformat": 4,
 "nbformat_minor": 2
}
